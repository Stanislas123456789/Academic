{
 "cells": [
  {
   "cell_type": "code",
   "execution_count": 15,
   "id": "fa1f1cae",
   "metadata": {},
   "outputs": [],
   "source": [
    "import pandas as pd\n",
    "import numpy as np\n",
    "import matplotlib.pyplot as plt"
   ]
  },
  {
   "cell_type": "code",
   "execution_count": 2,
   "id": "53f5e7d4",
   "metadata": {},
   "outputs": [],
   "source": [
    "# Adjust path if necessary\n",
    "df = pd.read_csv(\"../data/returns_and_characteristics.csv\")"
   ]
  },
  {
   "cell_type": "code",
   "execution_count": 3,
   "id": "05f7f0ea",
   "metadata": {},
   "outputs": [
    {
     "name": "stdout",
     "output_type": "stream",
     "text": [
      "Rows: 842680, Columns: 98\n"
     ]
    }
   ],
   "source": [
    "rows, cols = df.shape\n",
    "print(f\"Rows: {rows}, Columns: {cols}\")"
   ]
  },
  {
   "cell_type": "code",
   "execution_count": 4,
   "id": "a14f1a27",
   "metadata": {},
   "outputs": [
    {
     "data": {
      "text/plain": [
       "array([2000, 2001, 2002, 2003, 2004, 2005, 2006, 2007, 2008, 2009, 2010,\n",
       "       2011, 2012, 2013, 2014, 2015, 2016, 2017, 2018, 2019, 2020, 2021])"
      ]
     },
     "execution_count": 4,
     "metadata": {},
     "output_type": "execute_result"
    }
   ],
   "source": [
    "years = df['year'].drop_duplicates().sort_values().values\n",
    "years"
   ]
  },
  {
   "cell_type": "code",
   "execution_count": 5,
   "id": "d0f867e8",
   "metadata": {},
   "outputs": [
    {
     "name": "stdout",
     "output_type": "stream",
     "text": [
      "Number of unique permnos: 11397\n"
     ]
    }
   ],
   "source": [
    "num_permnos = df['permno'].nunique()\n",
    "print(f\"Number of unique permnos: {num_permnos}\")"
   ]
  },
  {
   "cell_type": "code",
   "execution_count": 6,
   "id": "64b88b95",
   "metadata": {},
   "outputs": [
    {
     "data": {
      "image/png": "[encoded data removed]",
      "text/plain": [
       "<Figure size 640x480 with 1 Axes>"
      ]
     },
     "metadata": {},
     "output_type": "display_data"
    }
   ],
   "source": [
    "obs_per_stock = df.groupby('permno').size()\n",
    "\n",
    "dist = obs_per_stock.value_counts().sort_index()\n",
    "\n",
    "plt.figure()\n",
    "plt.bar(dist.index, dist.values)\n",
    "plt.xlabel('Obs per stock')\n",
    "plt.ylabel('Number of stocks')\n",
    "plt.show()"
   ]
  },
  {
   "cell_type": "markdown",
   "id": "a340a1bb",
   "metadata": {},
   "source": [
    "Data splitting"
   ]
  },
  {
   "cell_type": "code",
   "execution_count": 7,
   "id": "996f9252",
   "metadata": {},
   "outputs": [
    {
     "name": "stdout",
     "output_type": "stream",
     "text": [
      "Train years: [2000 2001 2002 2003 2004 2005 2006 2007 2008 2009 2010 2011 2012 2013\n",
      " 2014 2015 2016]\n",
      "Test years:  [2017 2018 2019 2020 2021]\n"
     ]
    }
   ],
   "source": [
    "train_years = list(range(2000, 2017))  \n",
    "\n",
    "df_train = df[df['year'].isin(train_years)].copy()\n",
    "df_test  = df[~df['year'].isin(train_years)].copy()\n",
    "\n",
    "print(\"Train years:\", df_train['year'].drop_duplicates().sort_values().values)\n",
    "print(\"Test years: \", df_test ['year'].drop_duplicates().sort_values().values)"
   ]
  },
  {
   "cell_type": "markdown",
   "id": "8ef22bed",
   "metadata": {},
   "source": [
    "Example of portfolio rule"
   ]
  },
  {
   "cell_type": "markdown",
   "id": "89aebb6c",
   "metadata": {},
   "source": [
    "Calculation of a single-period out-of-sample returns"
   ]
  },
  {
   "cell_type": "code",
   "execution_count": null,
   "id": "817aff6b",
   "metadata": {},
   "outputs": [
    {
     "name": "stdout",
     "output_type": "stream",
     "text": [
      "Portfolio return for 1/2017: 2.3136%\n"
     ]
    }
   ],
   "source": [
    "# 1. Get the list of stocks in the training data and set equal weights\n",
    "train_permnos = df_train['permno'].unique()\n",
    "n_train = len(train_permnos)\n",
    "w = pd.Series(1.0/n_train, index=train_permnos, name='weight')\n",
    "\n",
    "# 2. Identify the first test period\n",
    "first_year  = df_test['year'].min()\n",
    "first_month = df_test[df_test['year'] == first_year]['month'].min()\n",
    "df_first = df_test[(df_test['year'] == first_year) & (df_test['month'] == first_month)]\n",
    "\n",
    "# 3. Restrict weights to stocks in that test period, zero out the rest, and renormalize\n",
    "w_test = w.reindex(df_first['permno'].unique(), fill_value=0)\n",
    "w_test /= w_test.sum()\n",
    "\n",
    "# 4. Compute the portfolio return in that month\n",
    "df_first = df_first.set_index('permno')\n",
    "port_return = (df_first['ret_monthly'] * w_test).sum()\n",
    "\n",
    "print(f\"Portfolio return for {first_month}/{first_year}: {port_return:.4%}\")\n"
   ]
  },
  {
   "cell_type": "markdown",
   "id": "ea801834",
   "metadata": {},
   "source": [
    "Loop through all dates of the out-of-sample period"
   ]
  },
  {
   "cell_type": "code",
   "execution_count": 13,
   "id": "09382169",
   "metadata": {},
   "outputs": [
    {
     "name": "stdout",
     "output_type": "stream",
     "text": [
      "2017-01-01    0.023136\n",
      "2017-02-01    0.027976\n",
      "2017-03-01    0.014534\n",
      "2017-04-01    0.009038\n",
      "2017-05-01   -0.009116\n",
      "Name: eqw_train_portfolio_ret, dtype: float64\n"
     ]
    }
   ],
   "source": [
    "# 1. Compute the initial equal‐weight training portfolio\n",
    "train_permnos = df_train['permno'].unique()\n",
    "n_train = len(train_permnos)\n",
    "w_init = pd.Series(1.0 / n_train, index=train_permnos, name='weight')\n",
    "\n",
    "# 2. Build a list of test periods in chronological order\n",
    "test_periods = (\n",
    "    df_test[['year','month']]\n",
    "    .drop_duplicates()\n",
    "    .sort_values(['year','month'])\n",
    "    .to_records(index=False)\n",
    ")\n",
    "\n",
    "# 3. Loop over each test period, zero‐out missing stocks, renormalize, and compute return\n",
    "rets = []\n",
    "dates = []\n",
    "for year, month in test_periods:\n",
    "    # select returns in this period\n",
    "    df_per = df_test[(df_test['year']==year)&(df_test['month']==month)]\n",
    "    # index by permno\n",
    "    df_per = df_per.set_index('permno')\n",
    "    # restrict & reindex the weight vector to this period’s universe\n",
    "    w = w_init.reindex(df_per.index, fill_value=0)\n",
    "    # renormalize so weights sum to 1\n",
    "    w /= w.sum()\n",
    "    # compute the portfolio return\n",
    "    port_ret = (w * df_per['ret_monthly']).sum()\n",
    "    rets.append(port_ret)\n",
    "    dates.append(pd.to_datetime(f\"{year}-{month}-01\"))\n",
    "\n",
    "# 4. Assemble into a pandas Series\n",
    "portfolio_returns = pd.Series(data=rets, index=dates)\n",
    "portfolio_returns.name = 'eqw_train_portfolio_ret'\n",
    "\n",
    "# 5. (Optional) inspect\n",
    "print(portfolio_returns.head())\n"
   ]
  },
  {
   "cell_type": "markdown",
   "id": "f8572579",
   "metadata": {},
   "source": [
    "Performance metrics"
   ]
  },
  {
   "cell_type": "code",
   "execution_count": 16,
   "id": "dcd59db3",
   "metadata": {},
   "outputs": [
    {
     "name": "stdout",
     "output_type": "stream",
     "text": [
      "Mean monthly return: 2.2197%\n",
      "Monthly volatility: 6.2023%\n",
      "Annualized return: 26.6360%\n",
      "Annualized volatility: 21.4854%\n",
      "Annualized Sharpe ratio: 1.24\n"
     ]
    }
   ],
   "source": [
    "# 1. Average (mean) monthly return\n",
    "mean_ret = portfolio_returns.mean()\n",
    "\n",
    "# 2. Standard deviation of monthly returns\n",
    "std_ret = portfolio_returns.std()\n",
    "\n",
    "# 3. Sharpe ratio (annualized, assuming 12 months per year and zero risk‐free rate)\n",
    "sharpe_ratio = mean_ret / std_ret * np.sqrt(12)\n",
    "\n",
    "# 4. (Optional) annualize the average return and volatility\n",
    "annual_ret = mean_ret * 12\n",
    "annual_vol = std_ret * np.sqrt(12)\n",
    "\n",
    "print(f\"Mean monthly return: {mean_ret:.4%}\")\n",
    "print(f\"Monthly volatility: {std_ret:.4%}\")\n",
    "print(f\"Annualized return: {annual_ret:.4%}\")\n",
    "print(f\"Annualized volatility: {annual_vol:.4%}\")\n",
    "print(f\"Annualized Sharpe ratio: {sharpe_ratio:.2f}\")\n"
   ]
  }
 ],
 "metadata": {
  "kernelspec": {
   "display_name": "Python 3",
   "language": "python",
   "name": "python3"
  },
  "language_info": {
   "codemirror_mode": {
    "name": "ipython",
    "version": 3
   },
   "file_extension": ".py",
   "mimetype": "text/x-python",
   "name": "python",
   "nbconvert_exporter": "python",
   "pygments_lexer": "ipython3",
   "version": "3.13.3"
  }
 },
 "nbformat": 4,
 "nbformat_minor": 5
}
